{
  "nbformat": 4,
  "nbformat_minor": 0,
  "metadata": {
    "colab": {
      "provenance": []
    },
    "kernelspec": {
      "name": "python3",
      "display_name": "Python 3"
    },
    "language_info": {
      "name": "python"
    }
  },
  "cells": [
    {
      "cell_type": "markdown",
      "source": [
        "Simple notebook de prediction du score DPE a partir d'un dataset de l'ADEME\n",
        "disponible sur https://data.ademe.fr/datasets/dpe-v2-tertiaire-2"
      ],
      "metadata": {
        "id": "F75Fn1B4l6YW"
      }
    },
    {
      "cell_type": "code",
      "execution_count": 1,
      "metadata": {
        "id": "Qp0qYpHfjqvF"
      },
      "outputs": [],
      "source": [
        "import pandas as pd\n",
        "pd.options.display.max_columns = 100\n",
        "pd.options.display.max_rows = 60\n",
        "pd.options.display.max_colwidth = 100\n",
        "pd.options.display.precision = 10\n",
        "pd.options.display.width = 160\n",
        "pd.set_option(\"display.float_format\", \"{:.4f}\".format)\n",
        "import numpy as np\n",
        "import re\n",
        "import typing as t\n",
        "from collections import Counter\n",
        "from sklearn.preprocessing import OrdinalEncoder\n",
        "import json\n",
        "import datetime\n"
      ]
    },
    {
      "cell_type": "code",
      "source": [
        "url = \"https://data.ademe.fr/data-fair/api/v1/datasets/dpe-v2-tertiaire-2/lines?size=10000&format=csv&after=10000%2C965634&header=true\"\n",
        "\n",
        "data = pd.read_csv(url)\n",
        "print(data.shape)"
      ],
      "metadata": {
        "colab": {
          "base_uri": "https://localhost:8080/"
        },
        "id": "EHrFZWUNmIdk",
        "outputId": "492641c7-8866-4d88-ed39-83e428780d64"
      },
      "execution_count": 2,
      "outputs": [
        {
          "output_type": "stream",
          "name": "stdout",
          "text": [
            "(10000, 63)\n"
          ]
        }
      ]
    },
    {
      "cell_type": "code",
      "source": [
        "print(data.head())"
      ],
      "metadata": {
        "colab": {
          "base_uri": "https://localhost:8080/"
        },
        "id": "HlvbRdo5mVCC",
        "outputId": "bb30982e-029f-47d2-848c-f015cdb34ac5"
      },
      "execution_count": 3,
      "outputs": [
        {
          "output_type": "stream",
          "name": "stdout",
          "text": [
            "           N°DPE Date_réception_DPE Date_établissement_DPE Date_visite_diagnostiqueur                 Modèle_DPE N°_DPE_remplacé Date_fin_validité_DPE  \\\n",
            "0  2369T3957539J         2023-11-21             2023-11-20                 2023-11-05  DPE 2006 tertiaire et ERP   2369T3818150G            2033-11-19   \n",
            "1  2302T0483966V         2023-02-14             2023-02-09                 2023-02-09  DPE 2006 tertiaire et ERP             NaN            2033-02-08   \n",
            "2  2111T0471835N         2021-10-10             2021-10-09                 2021-10-07  DPE 2006 tertiaire et ERP             NaN            2031-10-08   \n",
            "3  2130T0774038L         2021-11-25             2021-11-24                 2021-11-23  DPE 2006 tertiaire et ERP             NaN            2031-11-23   \n",
            "4  2245T0183882T         2022-01-31             2022-01-30                 2022-01-19  DPE 2006 tertiaire et ERP             NaN            2032-01-29   \n",
            "\n",
            "   Version_DPE N°_DPE_immeuble_associé         Méthode_du_DPE N°_immatriculation_copropriété Invariant_fiscal_logement Etiquette_DPE Etiquette_GES  \\\n",
            "0       2.3000                     NaN  dpe tertiaire facture                            NaN                       NaN             B             A   \n",
            "1       2.2000                     NaN  dpe tertiaire facture                            NaN                       NaN             C             A   \n",
            "2       1.0000                     NaN                    NaN                            NaN                         0           NaN           NaN   \n",
            "3       1.1000                     NaN   dpe tertiaire vierge                            NaN                       NaN             A             A   \n",
            "4       2.0000                     NaN  dpe tertiaire facture                            NaN                       NaN             D             D   \n",
            "\n",
            "   Conso_kWhep/m²/an  Emission_GES_kgCO2/m²/an  Année_construction   Catégorie_ERP Période_construction  \\\n",
            "0            58.6000                    1.6000                 NaN  5ème Catégorie            1989-2000   \n",
            "1           123.2000                    3.4000           1900.0000  4ème Catégorie           avant 1948   \n",
            "2                NaN                       NaN           2002.0000  1ère Catégorie            2001-2005   \n",
            "3             0.1000                    0.1000           1948.0000  5ème Catégorie            1948-1974   \n",
            "4           206.8000                   30.2000           1980.0000             NaN            1978-1982   \n",
            "\n",
            "                                                                         Secteur_activité  Nombre_occupant  Surface_(SHON)  Surface_utile  \\\n",
            "0                                                   W : Administrations, banques, bureaux           0.0000        208.0000       100.0000   \n",
            "1  L : Salles d'auditions, de conférences, de réunions, de spectacles ou à usage multiple         500.0000             NaN        96.0000   \n",
            "2                                                                           GHW : Bureaux           3.0000         88.1000        88.1000   \n",
            "3                                              M : Magasins de vente, centres commerciaux           0.0000         57.0000       100.0000   \n",
            "4                                                               autres tertiaires non ERP         500.0000       1361.0000      1361.0000   \n",
            "\n",
            "  Type_énergie_principale_chauffage                          Adresse_brute   Nom__commune_(BAN) Code_INSEE_(BAN) N°_voie_(BAN)    Identifiant__BAN  \\\n",
            "0                               NaN          56 Avenue du 11 Novembre 1918  Tassin-la-Demi-Lune            69244            56    69244_0770_00056   \n",
            "1                               NaN                  Hameau Ville Chamblon           Montfaucon            02505             2  02505_jvchda_00002   \n",
            "2                               NaN                 213 du Général Leclerc          Carcassonne            11069           213    11069_1810_00213   \n",
            "3                               NaN  Galerie Marchande \\nCIGUSTO-PORO N°31           Les Angles            30011           NaN          30011_0070   \n",
            "4                               NaN                    du Faubourg Bannier              Orléans            45234           112  45234_gbbfhn_00112   \n",
            "\n",
            "                                             Adresse_(BAN)  Code_postal_(BAN)  Score_BAN              Nom__rue_(BAN)  Coordonnée_cartographique_X_(BAN)  \\\n",
            "0  56 Avenue du 11 Novembre 1918 69160 Tassin-la-Demi-Lune         69160.0000     0.6600  Avenue du 11 Novembre 1918                        836559.2800   \n",
            "1                 2 Hameau Ville Chamblon 02540 Montfaucon          2540.0000     0.5900       Hameau Ville Chamblon                        731464.4300   \n",
            "2          213 Avenue du Général Leclerc 11000 Carcassonne         11000.0000     0.7100   Avenue du Général Leclerc                        649512.8400   \n",
            "3                         Rue des Cigales 30133 Les Angles         30133.0000     0.5700                         NaN                        841920.0000   \n",
            "4                112 Rue du Faubourg Bannier 45000 Orléans         45000.0000     0.8900     Rue du Faubourg Bannier                        617796.7600   \n",
            "\n",
            "   Coordonnée_cartographique_Y_(BAN)  Code_postal_(brut)  N°_étage_appartement         Nom_résidence    Complément_d'adresse_bâtiment Cage_d'escalier  \\\n",
            "0                       6519880.7000               69160                0.0000                   NaN  Tassin-Novembre-56-Sci Bourgade             NaN   \n",
            "1                       6871621.4600                2540                   NaN                   NaN                              NaN             NaN   \n",
            "2                       6234458.5100               11000                   NaN                   NaN                              NaN             NaN   \n",
            "3                       6318938.7600               30133                0.0000                   NaN                              NaN             NaN   \n",
            "4                       6757696.2800               45000                   NaN  LES PAPILLONS BLANCS                              NaN             NaN   \n",
            "\n",
            "  Complément_d'adresse_logement                                            Statut_géocodage  Nom__commune_(Brut) N°_département_(BAN)  N°_région_(BAN)  \\\n",
            "0             Etage : 1er étage                            adresse géocodée ban à l'adresse  TASSIN LA DEMI-LUNE                   69          84.0000   \n",
            "1                           NaN                            adresse géocodée ban à l'adresse           MONTFAUCON                   02          32.0000   \n",
            "2                           NaN  adresse non géocodée ban car aucune correspondance trouvée          CARCASSONNE                   11          76.0000   \n",
            "3                           NaN                            adresse géocodée ban à l'adresse           LES ANGLES                   30          76.0000   \n",
            "4                           NaN                            adresse géocodée ban à l'adresse              ORLÉANS                   45          24.0000   \n",
            "\n",
            "   Conso_é_finale_énergie_n°1  Conso_é_primaire_énergie_n°1 Type_énergie_n°1        Type_usage_énergie_n°1  Frais_annuel_énergie_n°1  \\\n",
            "0                   5825.0000                    13397.5000      Électricité  périmètre de l'usage inconnu                  416.0000   \n",
            "1                   5143.0000                    11828.9000      Électricité  périmètre de l'usage inconnu                  903.3000   \n",
            "2                         NaN                           NaN              NaN                           NaN                       NaN   \n",
            "3                      0.1000                        0.1000      Électricité  périmètre de l'usage inconnu                    0.1000   \n",
            "4                 175042.3000                   175042.3000      Gaz naturel  périmètre de l'usage inconnu                11007.4000   \n",
            "\n",
            "   Année_relève_conso_énergie_n°1  Conso_é_finale_énergie_n°2  Conso_é_primaire_énergie_n°2 Type_énergie_n°2        Type_usage_énergie_n°2  \\\n",
            "0                       2023.0000                         NaN                           NaN              NaN                           NaN   \n",
            "1                       2023.0000                         NaN                           NaN              NaN                           NaN   \n",
            "2                             NaN                         NaN                           NaN              NaN                           NaN   \n",
            "3                             NaN                         NaN                           NaN              NaN                           NaN   \n",
            "4                       2022.0000                 158561.3000                   158561.3000      Gaz naturel  périmètre de l'usage inconnu   \n",
            "\n",
            "   Frais_annuel_énergie_n°2  Année_relève_conso_énergie_n°2  Conso_é_finale_énergie_n°3  Conso_é_primaire_énergie_n°3 Type_énergie_n°3  \\\n",
            "0                       NaN                             NaN                         NaN                           NaN              NaN   \n",
            "1                       NaN                             NaN                         NaN                           NaN              NaN   \n",
            "2                       NaN                             NaN                         NaN                           NaN              NaN   \n",
            "3                       NaN                             NaN                         NaN                           NaN              NaN   \n",
            "4                 9971.0000                       2021.0000                  50050.0000                   115115.0000      Électricité   \n",
            "\n",
            "         Type_usage_énergie_n°3  Frais_annuel_énergie_n°3  Année_relève_conso_énergie_n°3  \n",
            "0                           NaN                       NaN                             NaN  \n",
            "1                           NaN                       NaN                             NaN  \n",
            "2                           NaN                       NaN                             NaN  \n",
            "3                           NaN                       NaN                             NaN  \n",
            "4  périmètre de l'usage inconnu                 8030.6000                       2021.0000  \n"
          ]
        }
      ]
    },
    {
      "cell_type": "code",
      "source": [
        "def rename_columns(columns: t.List[str]) -> t.List[str]:\n",
        "    columns = [col.lower() for col in columns]\n",
        "\n",
        "    rgxs = [\n",
        "        (r\"[°|/|']\", \"_\"),\n",
        "        (r\"²\", \"2\"),\n",
        "        (r\"[(|)]\", \"\"),\n",
        "        (r\"é|è\", \"e\"),\n",
        "        (r\"_+\", \"_\"),\n",
        "    ]\n",
        "    for rgx in rgxs:\n",
        "        columns = [re.sub(rgx[0], rgx[1], col) for col in columns]\n",
        "\n",
        "    return columns\n"
      ],
      "metadata": {
        "id": "f51MaVIpnBQt"
      },
      "execution_count": 4,
      "outputs": []
    },
    {
      "cell_type": "code",
      "source": [
        "    \"\"\"\n",
        "    Simplifier le nom des colonnes\n",
        "    \"\"\"\n",
        "\n",
        "    data.columns = rename_columns(data.columns)\n",
        "\n"
      ],
      "metadata": {
        "id": "p8WHqlubnJ1a"
      },
      "execution_count": 5,
      "outputs": []
    },
    {
      "cell_type": "code",
      "source": [
        "    \"\"\"\n",
        "    rm missing target\n",
        "    \"\"\"\n",
        "    target = \"etiquette_dpe\"\n",
        "    data.dropna(subset=target, inplace=True)\n",
        "\n",
        "    \"\"\"\n",
        "    categorical columns\n",
        "    \"\"\"\n"
      ],
      "metadata": {
        "colab": {
          "base_uri": "https://localhost:8080/",
          "height": 36
        },
        "id": "8kqpNKGlnK9O",
        "outputId": "048df79d-980e-49d6-c975-a0615c9f61c1"
      },
      "execution_count": 6,
      "outputs": [
        {
          "output_type": "execute_result",
          "data": {
            "text/plain": [
              "'\\ncategorical columns\\n'"
            ],
            "application/vnd.google.colaboratory.intrinsic+json": {
              "type": "string"
            }
          },
          "metadata": {},
          "execution_count": 6
        }
      ]
    },
    {
      "cell_type": "code",
      "source": [
        "    columns_categorical = [\n",
        "        \"version_dpe\",\n",
        "        \"methode_du_dpe\",\n",
        "        \"categorie_erp\",\n",
        "        \"secteur_activite\",\n",
        "        \"type_energie_principale_chauffage\",\n",
        "        \"type_energie_n_1\",\n",
        "        \"type_energie_n_2\",\n",
        "        \"type_energie_n_3\",\n",
        "        \"type_usage_energie_n_1\",\n",
        "        \"type_usage_energie_n_2\",\n",
        "        \"type_usage_energie_n_3\",\n",
        "    ]\n",
        "    for col in columns_categorical:\n",
        "        data[col].fillna(\"non renseigné\", inplace=True)\n"
      ],
      "metadata": {
        "id": "7QJhmtYWnR7C"
      },
      "execution_count": 7,
      "outputs": []
    },
    {
      "cell_type": "code",
      "source": [
        "    \"\"\"\n",
        "    regroup type energies\n",
        "    \"\"\"\n",
        "    type_energie = []\n",
        "    for col in [\n",
        "        \"type_energie_principale_chauffage\",\n",
        "        \"type_energie_n_1\",\n",
        "        \"type_energie_n_2\",\n",
        "        \"type_energie_n_3\",\n",
        "    ]:\n",
        "        type_energie += list(data[col])\n",
        "    type_energie_count = Counter(type_energie)\n",
        "    print(type_energie_count.most_common(20))\n",
        "\n",
        "    type_energie_map = {\n",
        "        \"non renseigné\": \"non renseigné\",\n",
        "        \"Électricité\": \"Électricité\",\n",
        "        \"Électricité d'origine renouvelable utilisée dans le bâtiment\": \"Électricité\",\n",
        "        \"Gaz naturel\": \"Gaz naturel\",\n",
        "        \"Butane\": \"GPL\",\n",
        "        \"Propane\": \"GPL\",\n",
        "        \"GPL\": \"GPL\",\n",
        "        \"Fioul domestique\": \"Fioul domestique\",\n",
        "        \"Réseau de Chauffage urbain\": \"Réseau de Chauffage urbain\",\n",
        "        \"Charbon\": \"Combustible fossile\",\n",
        "        \"autre combustible fossile\": \"Combustible fossile\",\n",
        "        \"Bois – Bûches\": \"Bois\",\n",
        "        \"Bois – Plaquettes forestières\": \"Bois\",\n",
        "        \"Bois – Granulés (pellets) ou briquettes\": \"Bois\",\n",
        "        \"Bois – Plaquettes d’industrie\": \"Bois\",\n",
        "    }\n",
        "\n",
        "    for col in [\n",
        "        \"type_energie_principale_chauffage\",\n",
        "        \"type_energie_n_1\",\n",
        "        \"type_energie_n_2\",\n",
        "        \"type_energie_n_3\",\n",
        "    ]:\n",
        "        data[col] = data[col].apply(lambda d: type_energie_map[d])\n",
        "\n",
        "    type_energie = []\n",
        "    for col in [\n",
        "        \"type_energie_principale_chauffage\",\n",
        "        \"type_energie_n_1\",\n",
        "        \"type_energie_n_2\",\n",
        "        \"type_energie_n_3\",\n",
        "    ]:\n",
        "        type_energie += list(data[col])\n",
        "\n",
        "    type_energie_count = Counter(type_energie)\n",
        "    print(type_energie_count.most_common(20))\n",
        "\n"
      ],
      "metadata": {
        "colab": {
          "base_uri": "https://localhost:8080/"
        },
        "id": "hrSg-vXSnS03",
        "outputId": "5752baae-3f6c-40cc-fe34-8849874f851f"
      },
      "execution_count": 8,
      "outputs": [
        {
          "output_type": "stream",
          "name": "stdout",
          "text": [
            "[('non renseigné', 12781), ('Électricité', 7351), ('Gaz naturel', 1691), ('Fioul domestique', 211), ('Réseau de Chauffage urbain', 165), ('Propane', 62), ('autre combustible fossile', 52), ('Bois – Granulés (pellets) ou briquettes', 34), ('Bois – Bûches', 28), ('GPL', 24), (\"Électricité d'origine renouvelable utilisée dans le bâtiment\", 10), ('Bois – Plaquettes forestières', 7), ('Bois – Plaquettes d’industrie', 4), ('Butane', 3), ('Charbon', 1)]\n",
            "[('non renseigné', 12781), ('Électricité', 7361), ('Gaz naturel', 1691), ('Fioul domestique', 211), ('Réseau de Chauffage urbain', 165), ('GPL', 89), ('Bois', 73), ('Combustible fossile', 53)]\n"
          ]
        }
      ]
    },
    {
      "cell_type": "code",
      "source": [
        "    \"\"\"\n",
        "    regroup type usage\n",
        "    \"\"\"\n",
        "    type_usage = []\n",
        "    for col in [\n",
        "        \"type_usage_energie_n_1\",\n",
        "        \"type_usage_energie_n_2\",\n",
        "        \"type_usage_energie_n_3\",\n",
        "    ]:\n",
        "        type_usage += list(data[col])\n",
        "\n",
        "    type_usage_count = Counter(type_usage)\n",
        "    print(type_usage_count.most_common(20))\n",
        "\n",
        "    type_usage_map = {\n",
        "        \"non renseigné\": \"non renseigné\",\n",
        "        \"périmètre de l'usage inconnu\": \"non renseigné\",\n",
        "        \"Chauffage\": \"Chauffage\",\n",
        "        \"Eau Chaude sanitaire\": \"Eau Chaude sanitaire\",\n",
        "        \"Eclairage\": \"Eclairage\",\n",
        "        \"Refroidissement\": \"Refroidissement\",\n",
        "        \"Ascenseur(s)\": \"Ascenseur(s)\",\n",
        "        \"auxiliaires et ventilation\": \"Refroidissement\",\n",
        "        \"Autres usages\": \"Autres usages\",\n",
        "        \"Bureautique\": \"Autres usages\",\n",
        "        \"Abonnements\": \"Autres usages\",\n",
        "        \"Production d'électricité à demeure\": \"Autres usages\",\n",
        "    }\n",
        "    for col in [\n",
        "        \"type_usage_energie_n_1\",\n",
        "        \"type_usage_energie_n_2\",\n",
        "        \"type_usage_energie_n_3\",\n",
        "    ]:\n",
        "        data[col] = data[col].apply(lambda d: type_usage_map[d])\n",
        "\n",
        "    type_usage = []\n",
        "    for col in [\n",
        "        \"type_usage_energie_n_1\",\n",
        "        \"type_usage_energie_n_2\",\n",
        "        \"type_usage_energie_n_3\",\n",
        "    ]:\n",
        "        type_usage += list(data[col])\n",
        "\n",
        "    type_usage_count = Counter(type_usage)\n",
        "    print(type_usage_count.most_common(20))\n",
        "\n"
      ],
      "metadata": {
        "colab": {
          "base_uri": "https://localhost:8080/"
        },
        "id": "ZXvRgdGnnZfZ",
        "outputId": "18ff26b7-e434-4ab4-e397-55c6e7184d1b"
      },
      "execution_count": 9,
      "outputs": [
        {
          "output_type": "stream",
          "name": "stdout",
          "text": [
            "[('non renseigné', 8177), (\"périmètre de l'usage inconnu\", 6032), ('Chauffage', 1391), ('Eau Chaude sanitaire', 656), ('Eclairage', 321), ('Autres usages', 77), ('Refroidissement', 68), ('Ascenseur(s)', 63), ('Bureautique', 12), ('auxiliaires et ventilation', 11), (\"Production d'électricité à demeure\", 10)]\n",
            "[('non renseigné', 14209), ('Chauffage', 1391), ('Eau Chaude sanitaire', 656), ('Eclairage', 321), ('Autres usages', 99), ('Refroidissement', 79), ('Ascenseur(s)', 63)]\n"
          ]
        }
      ]
    },
    {
      "cell_type": "code",
      "source": [
        "    \"\"\"\n",
        "    Encode categorical columns\n",
        "    \"\"\"\n",
        "    encoder = OrdinalEncoder()\n",
        "\n",
        "    data[columns_categorical] = encoder.fit_transform(data[columns_categorical])\n",
        "    for col in columns_categorical:\n",
        "        data[col] = data[col].astype(int)\n",
        "\n",
        "    # save categorical mappings\n",
        "    mappings = {}\n",
        "    for i, col in enumerate(encoder.feature_names_in_):\n",
        "        mappings[col] = {\n",
        "            int(value): category\n",
        "            for value, category in enumerate(encoder.categories_[i])\n",
        "        }\n",
        "\n",
        "    # Save the mappings to a JSON file\n",
        "    with open(\"./categorical_mappings.json\", \"w\", encoding=\"utf-8\") as f:\n",
        "        json.dump(mappings, f, ensure_ascii=False, indent=4)\n"
      ],
      "metadata": {
        "id": "Q2heMdJ5ncwD"
      },
      "execution_count": 10,
      "outputs": []
    },
    {
      "cell_type": "code",
      "source": [
        "    \"\"\"\n",
        "    date de visite\n",
        "    \"\"\"\n",
        "    columns_dates = [\"date_visite_diagnostiqueur\"]\n",
        "\n",
        "    # supprimer le jour, garder annee et mois comme float\n",
        "    col = \"date_visite_diagnostiqueur\"\n",
        "    data[col] = data[col].apply(lambda d: float(\".\".join(d.split(\"-\")[:2])))\n",
        "\n"
      ],
      "metadata": {
        "id": "yX4YmHG4nlXh"
      },
      "execution_count": 11,
      "outputs": []
    },
    {
      "cell_type": "code",
      "source": [
        "    \"\"\"\n",
        "    Floats\n",
        "    \"\"\"\n",
        "    columns_float = [\n",
        "        \"conso_kwhep_m2_an\",\n",
        "        \"emission_ges_kgco2_m2_an\",\n",
        "        \"surface_utile\",\n",
        "        \"conso_e_finale_energie_n_1\",\n",
        "        \"conso_e_primaire_energie_n_1\",\n",
        "        \"frais_annuel_energie_n_1\",\n",
        "        \"conso_e_finale_energie_n_2\",\n",
        "        \"conso_e_primaire_energie_n_2\",\n",
        "        \"frais_annuel_energie_n_2\",\n",
        "        \"conso_e_finale_energie_n_3\",\n",
        "        \"conso_e_primaire_energie_n_3\",\n",
        "        \"frais_annuel_energie_n_3\",\n",
        "    ]\n",
        "\n",
        "    for col in columns_float:\n",
        "        data[col].fillna(0.0, inplace=True)\n",
        "\n",
        "    # add\n",
        "    data[\"conso_finale_energie\"] = 0.0\n",
        "    data[\"conso_primaire_energie\"] = 0.0\n",
        "    data[\"frais_annuel_energie\"] = 0.0\n",
        "    for n in range(1, 4):\n",
        "        col = f\"conso_e_finale_energie_n_{n}\"\n",
        "        data[\"conso_finale_energie\"] += data[col]\n",
        "        col = f\"conso_e_primaire_energie_n_{n}\"\n",
        "        data[\"conso_primaire_energie\"] += data[col]\n",
        "        col = f\"frais_annuel_energie_n_{n}\"\n",
        "        data[\"frais_annuel_energie\"] += data[col]\n",
        "\n",
        "    \"\"\"\n",
        "    columns int\n",
        "    \"\"\"\n",
        "    columns_int = [\n",
        "        \"annee_construction\",\n",
        "        \"nombre_occupant\",\n",
        "        \"n_etage_appartement\",\n",
        "    ]\n",
        "\n",
        "    for col in columns_int:\n",
        "        data[col].fillna(-1, inplace=True)\n",
        "        data[col] = data[col].astype(int)\n"
      ],
      "metadata": {
        "id": "oujawmaQnpSS"
      },
      "execution_count": 12,
      "outputs": []
    },
    {
      "cell_type": "code",
      "source": [
        "    \"\"\"\n",
        "    target : etiquette SPE\n",
        "    \"\"\"\n",
        "    target_encoding = {\"A\": 1, \"B\": 2, \"C\": 3, \"D\": 4, \"E\": 5, \"F\": 6, \"G\": 7}\n",
        "    data[target] = data[target].apply(lambda d: target_encoding[d])\n"
      ],
      "metadata": {
        "id": "6ejRhuuenr-2"
      },
      "execution_count": 13,
      "outputs": []
    },
    {
      "cell_type": "code",
      "source": [
        "    # final feature set\n",
        "    features = [\n",
        "        \"n_dpe\",\n",
        "        \"version_dpe\",\n",
        "        \"methode_du_dpe\",\n",
        "        \"categorie_erp\",\n",
        "        \"secteur_activite\",\n",
        "        \"type_energie_principale_chauffage\",\n",
        "        \"type_energie_n_1\",\n",
        "        \"type_usage_energie_n_1\",\n",
        "        \"conso_kwhep_m2_an\",\n",
        "        \"emission_ges_kgco2_m2_an\",\n",
        "        \"surface_utile\",\n",
        "        \"conso_finale_energie\",\n",
        "        \"conso_primaire_energie\",\n",
        "        \"frais_annuel_energie\",\n",
        "        \"annee_construction\",\n",
        "        target,\n",
        "    ]\n",
        "\n",
        "    data = data[features].copy()\n",
        "    data.reset_index(inplace=True, drop=True)\n",
        "\n",
        "    # save to file\n",
        "    output_file = (\n",
        "        f\"./dpe_tertiaire_{datetime.datetime.now().strftime('%Y%m%d')}.csv\"\n",
        "    )\n",
        "\n",
        "\n",
        "    data.to_csv(output_file, index=False)\n",
        "    print(f\"data saved to {output_file}\")\n"
      ],
      "metadata": {
        "colab": {
          "base_uri": "https://localhost:8080/"
        },
        "id": "refJWofLnuij",
        "outputId": "89150479-8564-4ce0-c978-d2dbb70cf114"
      },
      "execution_count": 14,
      "outputs": [
        {
          "output_type": "stream",
          "name": "stdout",
          "text": [
            "data saved to ./dpe_tertiaire_20240314.csv\n"
          ]
        }
      ]
    },
    {
      "cell_type": "markdown",
      "source": [
        "# Training\n",
        "\n"
      ],
      "metadata": {
        "id": "dh4fjxLwoBj7"
      }
    },
    {
      "cell_type": "code",
      "source": [
        "from sklearn.model_selection import train_test_split, GridSearchCV, KFold\n",
        "from sklearn.ensemble import RandomForestClassifier\n",
        "from sklearn.metrics import classification_report, accuracy_score, roc_auc_score\n"
      ],
      "metadata": {
        "id": "s1LIrJSZoFmv"
      },
      "execution_count": 15,
      "outputs": []
    },
    {
      "cell_type": "code",
      "source": [
        "# load data\n",
        "input_file = output_file\n",
        "data = pd.read_csv(input_file)\n",
        "# shuffle\n",
        "data = data.sample(frac=1, random_state=808).reset_index(drop=True)\n"
      ],
      "metadata": {
        "id": "mvqThdfFoIdX"
      },
      "execution_count": 16,
      "outputs": []
    },
    {
      "cell_type": "code",
      "source": [
        "    # split\n",
        "    # Assuming the last column is the target variable\n",
        "    X = data.iloc[:, :-1]  # Features\n",
        "    y = data.iloc[:, -1]  # Target variable\n",
        "    assert y.name == \"etiquette_dpe\"\n",
        "    # id = list(X.n_dpe)\n",
        "    # Split the data into training and testing sets\n",
        "    X_train, X_test, y_train, y_test = train_test_split(\n",
        "        X, y, test_size=0.2, random_state=808\n",
        "    )\n",
        "\n",
        "    X_train.drop(columns=[\"n_dpe\"], inplace=True)\n",
        "    id_test = list(X_test.n_dpe)\n",
        "    X_test.drop(columns=[\"n_dpe\"], inplace=True)\n"
      ],
      "metadata": {
        "id": "oEUB1WreoNwE"
      },
      "execution_count": 17,
      "outputs": []
    },
    {
      "cell_type": "code",
      "source": [
        "    # Initialize the model\n",
        "    rf = RandomForestClassifier()\n"
      ],
      "metadata": {
        "id": "z1SahFMqoRkB"
      },
      "execution_count": 18,
      "outputs": []
    },
    {
      "cell_type": "code",
      "source": [
        "    # Define the parameter grid\n",
        "    param_grid = {\n",
        "        \"n_estimators\": [200, 300],  # Number of trees\n",
        "        \"max_depth\": [10],  # Maximum depth of the trees\n",
        "        \"min_samples_leaf\": [1, 5],  # Maximum depth of the trees\n",
        "    }\n",
        "\n",
        "    # Setup GridSearchCV with k-fold cross-validation\n",
        "    cv = KFold(n_splits=3, random_state=84, shuffle=True)\n",
        "\n",
        "    grid_search = GridSearchCV(\n",
        "        estimator=rf, param_grid=param_grid, cv=cv, scoring=\"accuracy\", verbose=1\n",
        "    )\n"
      ],
      "metadata": {
        "id": "NWTPeqH-oT-w"
      },
      "execution_count": 19,
      "outputs": []
    },
    {
      "cell_type": "code",
      "source": [
        "    # Fit the model\n",
        "    grid_search.fit(X_train, y_train)\n"
      ],
      "metadata": {
        "colab": {
          "base_uri": "https://localhost:8080/",
          "height": 134
        },
        "id": "svVUWcOwoW6x",
        "outputId": "9c00ce25-3b7d-4cd7-dc57-26c4ce480568"
      },
      "execution_count": 20,
      "outputs": [
        {
          "output_type": "stream",
          "name": "stdout",
          "text": [
            "Fitting 3 folds for each of 4 candidates, totalling 12 fits\n"
          ]
        },
        {
          "output_type": "execute_result",
          "data": {
            "text/plain": [
              "GridSearchCV(cv=KFold(n_splits=3, random_state=84, shuffle=True),\n",
              "             estimator=RandomForestClassifier(),\n",
              "             param_grid={'max_depth': [10], 'min_samples_leaf': [1, 5],\n",
              "                         'n_estimators': [200, 300]},\n",
              "             scoring='accuracy', verbose=1)"
            ],
            "text/html": [
              "<style>#sk-container-id-1 {color: black;background-color: white;}#sk-container-id-1 pre{padding: 0;}#sk-container-id-1 div.sk-toggleable {background-color: white;}#sk-container-id-1 label.sk-toggleable__label {cursor: pointer;display: block;width: 100%;margin-bottom: 0;padding: 0.3em;box-sizing: border-box;text-align: center;}#sk-container-id-1 label.sk-toggleable__label-arrow:before {content: \"▸\";float: left;margin-right: 0.25em;color: #696969;}#sk-container-id-1 label.sk-toggleable__label-arrow:hover:before {color: black;}#sk-container-id-1 div.sk-estimator:hover label.sk-toggleable__label-arrow:before {color: black;}#sk-container-id-1 div.sk-toggleable__content {max-height: 0;max-width: 0;overflow: hidden;text-align: left;background-color: #f0f8ff;}#sk-container-id-1 div.sk-toggleable__content pre {margin: 0.2em;color: black;border-radius: 0.25em;background-color: #f0f8ff;}#sk-container-id-1 input.sk-toggleable__control:checked~div.sk-toggleable__content {max-height: 200px;max-width: 100%;overflow: auto;}#sk-container-id-1 input.sk-toggleable__control:checked~label.sk-toggleable__label-arrow:before {content: \"▾\";}#sk-container-id-1 div.sk-estimator input.sk-toggleable__control:checked~label.sk-toggleable__label {background-color: #d4ebff;}#sk-container-id-1 div.sk-label input.sk-toggleable__control:checked~label.sk-toggleable__label {background-color: #d4ebff;}#sk-container-id-1 input.sk-hidden--visually {border: 0;clip: rect(1px 1px 1px 1px);clip: rect(1px, 1px, 1px, 1px);height: 1px;margin: -1px;overflow: hidden;padding: 0;position: absolute;width: 1px;}#sk-container-id-1 div.sk-estimator {font-family: monospace;background-color: #f0f8ff;border: 1px dotted black;border-radius: 0.25em;box-sizing: border-box;margin-bottom: 0.5em;}#sk-container-id-1 div.sk-estimator:hover {background-color: #d4ebff;}#sk-container-id-1 div.sk-parallel-item::after {content: \"\";width: 100%;border-bottom: 1px solid gray;flex-grow: 1;}#sk-container-id-1 div.sk-label:hover label.sk-toggleable__label {background-color: #d4ebff;}#sk-container-id-1 div.sk-serial::before {content: \"\";position: absolute;border-left: 1px solid gray;box-sizing: border-box;top: 0;bottom: 0;left: 50%;z-index: 0;}#sk-container-id-1 div.sk-serial {display: flex;flex-direction: column;align-items: center;background-color: white;padding-right: 0.2em;padding-left: 0.2em;position: relative;}#sk-container-id-1 div.sk-item {position: relative;z-index: 1;}#sk-container-id-1 div.sk-parallel {display: flex;align-items: stretch;justify-content: center;background-color: white;position: relative;}#sk-container-id-1 div.sk-item::before, #sk-container-id-1 div.sk-parallel-item::before {content: \"\";position: absolute;border-left: 1px solid gray;box-sizing: border-box;top: 0;bottom: 0;left: 50%;z-index: -1;}#sk-container-id-1 div.sk-parallel-item {display: flex;flex-direction: column;z-index: 1;position: relative;background-color: white;}#sk-container-id-1 div.sk-parallel-item:first-child::after {align-self: flex-end;width: 50%;}#sk-container-id-1 div.sk-parallel-item:last-child::after {align-self: flex-start;width: 50%;}#sk-container-id-1 div.sk-parallel-item:only-child::after {width: 0;}#sk-container-id-1 div.sk-dashed-wrapped {border: 1px dashed gray;margin: 0 0.4em 0.5em 0.4em;box-sizing: border-box;padding-bottom: 0.4em;background-color: white;}#sk-container-id-1 div.sk-label label {font-family: monospace;font-weight: bold;display: inline-block;line-height: 1.2em;}#sk-container-id-1 div.sk-label-container {text-align: center;}#sk-container-id-1 div.sk-container {/* jupyter's `normalize.less` sets `[hidden] { display: none; }` but bootstrap.min.css set `[hidden] { display: none !important; }` so we also need the `!important` here to be able to override the default hidden behavior on the sphinx rendered scikit-learn.org. See: https://github.com/scikit-learn/scikit-learn/issues/21755 */display: inline-block !important;position: relative;}#sk-container-id-1 div.sk-text-repr-fallback {display: none;}</style><div id=\"sk-container-id-1\" class=\"sk-top-container\"><div class=\"sk-text-repr-fallback\"><pre>GridSearchCV(cv=KFold(n_splits=3, random_state=84, shuffle=True),\n",
              "             estimator=RandomForestClassifier(),\n",
              "             param_grid={&#x27;max_depth&#x27;: [10], &#x27;min_samples_leaf&#x27;: [1, 5],\n",
              "                         &#x27;n_estimators&#x27;: [200, 300]},\n",
              "             scoring=&#x27;accuracy&#x27;, verbose=1)</pre><b>In a Jupyter environment, please rerun this cell to show the HTML representation or trust the notebook. <br />On GitHub, the HTML representation is unable to render, please try loading this page with nbviewer.org.</b></div><div class=\"sk-container\" hidden><div class=\"sk-item sk-dashed-wrapped\"><div class=\"sk-label-container\"><div class=\"sk-label sk-toggleable\"><input class=\"sk-toggleable__control sk-hidden--visually\" id=\"sk-estimator-id-1\" type=\"checkbox\" ><label for=\"sk-estimator-id-1\" class=\"sk-toggleable__label sk-toggleable__label-arrow\">GridSearchCV</label><div class=\"sk-toggleable__content\"><pre>GridSearchCV(cv=KFold(n_splits=3, random_state=84, shuffle=True),\n",
              "             estimator=RandomForestClassifier(),\n",
              "             param_grid={&#x27;max_depth&#x27;: [10], &#x27;min_samples_leaf&#x27;: [1, 5],\n",
              "                         &#x27;n_estimators&#x27;: [200, 300]},\n",
              "             scoring=&#x27;accuracy&#x27;, verbose=1)</pre></div></div></div><div class=\"sk-parallel\"><div class=\"sk-parallel-item\"><div class=\"sk-item\"><div class=\"sk-label-container\"><div class=\"sk-label sk-toggleable\"><input class=\"sk-toggleable__control sk-hidden--visually\" id=\"sk-estimator-id-2\" type=\"checkbox\" ><label for=\"sk-estimator-id-2\" class=\"sk-toggleable__label sk-toggleable__label-arrow\">estimator: RandomForestClassifier</label><div class=\"sk-toggleable__content\"><pre>RandomForestClassifier()</pre></div></div></div><div class=\"sk-serial\"><div class=\"sk-item\"><div class=\"sk-estimator sk-toggleable\"><input class=\"sk-toggleable__control sk-hidden--visually\" id=\"sk-estimator-id-3\" type=\"checkbox\" ><label for=\"sk-estimator-id-3\" class=\"sk-toggleable__label sk-toggleable__label-arrow\">RandomForestClassifier</label><div class=\"sk-toggleable__content\"><pre>RandomForestClassifier()</pre></div></div></div></div></div></div></div></div></div></div>"
            ]
          },
          "metadata": {},
          "execution_count": 20
        }
      ]
    },
    {
      "cell_type": "code",
      "source": [
        "    # Best parameters and best score\n",
        "    print(f\"Best parameters: {grid_search.best_params_}\")\n",
        "    print(f\"Best cross-validation score: {grid_search.best_score_}\")\n",
        "    print(f\"Best model: {grid_search.best_estimator_}\")\n",
        "\n",
        "    # Evaluate on the test set\n",
        "    yhat = grid_search.predict(X_test)\n",
        "    print(classification_report(y_test, yhat))\n",
        "\n"
      ],
      "metadata": {
        "colab": {
          "base_uri": "https://localhost:8080/"
        },
        "id": "u5g7EkdOoaNM",
        "outputId": "cc62fb6c-3074-4d20-f6d9-63c394aac42f"
      },
      "execution_count": 21,
      "outputs": [
        {
          "output_type": "stream",
          "name": "stdout",
          "text": [
            "Best parameters: {'max_depth': 10, 'min_samples_leaf': 1, 'n_estimators': 300}\n",
            "Best cross-validation score: 0.8229251453976442\n",
            "Best model: RandomForestClassifier(max_depth=10, n_estimators=300)\n",
            "              precision    recall  f1-score   support\n",
            "\n",
            "           1       0.99      0.89      0.93       105\n",
            "           2       0.84      0.85      0.84       121\n",
            "           3       0.92      0.82      0.87       291\n",
            "           4       0.81      0.83      0.82       270\n",
            "           5       0.68      0.86      0.76       147\n",
            "           6       0.87      0.75      0.81        64\n",
            "           7       0.89      0.91      0.90       124\n",
            "\n",
            "    accuracy                           0.84      1122\n",
            "   macro avg       0.86      0.84      0.85      1122\n",
            "weighted avg       0.85      0.84      0.85      1122\n",
            "\n"
          ]
        }
      ]
    },
    {
      "cell_type": "code",
      "source": [
        "# regroup into predictions dataframe\n",
        "probabilities = grid_search.predict_proba(X_test)\n",
        "\n",
        "predictions = pd.DataFrame()\n",
        "predictions[\"id\"] = id_test\n",
        "predictions[\"prob\"] = np.max(probabilities, axis=1)\n",
        "predictions[\"yhat\"] = yhat\n",
        "predictions[\"y\"] = y_test.values\n",
        "print(predictions.head())\n"
      ],
      "metadata": {
        "colab": {
          "base_uri": "https://localhost:8080/"
        },
        "id": "UrnDW5X9ochH",
        "outputId": "2c8cde66-cbf6-4769-bd68-14008b05f753"
      },
      "execution_count": 22,
      "outputs": [
        {
          "output_type": "stream",
          "name": "stdout",
          "text": [
            "              id   prob  yhat  y\n",
            "0  2113T0707016A 1.0000     1  1\n",
            "1  2373T4274354S 0.7377     4  4\n",
            "2  2142T1010760P 0.5169     3  3\n",
            "3  2244T0873273T 0.4379     5  4\n",
            "4  2294T1585219F 0.9309     3  3\n"
          ]
        }
      ]
    },
    {
      "cell_type": "code",
      "source": [
        "    # feature importance\n",
        "    feature_importances = grid_search.best_estimator_.feature_importances_\n",
        "    feature_names = X_train.columns\n",
        "\n",
        "    # Create a dictionary mapping feature names to their importance\n",
        "    importance_dict = dict(zip(feature_names, feature_importances))\n",
        "    importance_dict = dict(\n",
        "        sorted(importance_dict.items(), key=lambda item: item[1], reverse=True)\n",
        "    )\n",
        "\n",
        "    print(importance_dict)\n",
        "\n"
      ],
      "metadata": {
        "colab": {
          "base_uri": "https://localhost:8080/"
        },
        "id": "G1vCvZIzpB2M",
        "outputId": "157e3bec-184f-4831-be9f-de963fbe5ce5"
      },
      "execution_count": 23,
      "outputs": [
        {
          "output_type": "stream",
          "name": "stdout",
          "text": [
            "{'conso_kwhep_m2_an': 0.4560004648582145, 'emission_ges_kgco2_m2_an': 0.2356980533905615, 'conso_finale_energie': 0.06646916976942052, 'conso_primaire_energie': 0.06574298220460331, 'frais_annuel_energie': 0.046111311278519064, 'secteur_activite': 0.03012996189963547, 'methode_du_dpe': 0.01969181062145716, 'surface_utile': 0.01968677860206445, 'annee_construction': 0.01791968885315905, 'type_energie_n_1': 0.01297045415114978, 'version_dpe': 0.011185842677147782, 'categorie_erp': 0.007694512776899341, 'type_usage_energie_n_1': 0.005752469930623638, 'type_energie_principale_chauffage': 0.00494649898654448}\n"
          ]
        }
      ]
    }
  ]
}